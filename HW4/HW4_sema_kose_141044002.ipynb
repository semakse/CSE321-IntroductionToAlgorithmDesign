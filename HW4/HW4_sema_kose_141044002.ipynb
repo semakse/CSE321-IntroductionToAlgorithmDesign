{
 "cells": [
  {
   "cell_type": "markdown",
   "metadata": {},
   "source": [
    "## Q1 ##"
   ]
  },
  {
   "cell_type": "code",
   "execution_count": 1,
   "metadata": {},
   "outputs": [
    {
     "name": "stdout",
     "output_type": "stream",
     "text": [
      "\n",
      "--------Q1-------\n",
      "\n"
     ]
    }
   ],
   "source": [
    "print(\"\\n--------Q1-------\\n\")"
   ]
  },
  {
   "cell_type": "code",
   "execution_count": 2,
   "metadata": {},
   "outputs": [],
   "source": [
    "def penalties(L):\n",
    "    tempPenalties = []\n",
    "    hotelList = []\n",
    "    pen = []\n",
    "    n = len(L)\n",
    "    ##base case for initial state\n",
    "    if n == 1:\n",
    "        tempPenalties.append(0 + (200 - (L[0]-0))*(200 - (L[0]-0)))\n",
    "        hotelList.append([L[0]])\n",
    "        return{'p' : tempPenalties, 'h' : hotelList}\n",
    "    else:\n",
    "        k=n-2\n",
    "        ##use recursion for selecting minimum cost\n",
    "        res = penalties(L[1:n])\n",
    "        pen = res['p']\n",
    "        hotelList = res['h']\n",
    "        tempPenalties.append(0 + (200 - (L[0]-0))*(200 - (L[0]-0)))\n",
    "        listOfStopPoints = []\n",
    "        listOfStopPoints.append([L[0]])\n",
    "        ##calculate the minimum cost for each hotel\n",
    "        while k>=0:\n",
    "            tempPenalties.append(pen[k] + (200 - (L[0]-L[k]))*(200 - (L[0]-L[k])))\n",
    "            listTemp = []\n",
    "            if(L[k] != hotelList[k][len(hotelList[k])-1]):\n",
    "                listTemp = hotelList[k] + [L[k]]\n",
    "                listOfStopPoints.append(listTemp)\n",
    "            k -= 1\n",
    "        pen.append(min(tempPenalties))\n",
    "        index = 0\n",
    "        for temp in tempPenalties:\n",
    "            if temp == min(tempPenalties):\n",
    "                hotelList.append(listOfStopPoints[index])\n",
    "                break\n",
    "            index += 1\n",
    "        return{'p' : pen, 'h' : hotelList}\n",
    "    "
   ]
  },
  {
   "cell_type": "code",
   "execution_count": 3,
   "metadata": {},
   "outputs": [
    {
     "name": "stdout",
     "output_type": "stream",
     "text": [
      "If the last stop is 1. hotel : penalty = 100 stops = [1]\n",
      "If the last stop is 2. hotel : penalty = 400 stops = [2]\n",
      "If the last stop is 3. hotel : penalty = 500 stops = [1, 3]\n",
      "If the last stop is 4. hotel : penalty = 1300 stops = [2, 3]\n",
      "If the last stop is 5. hotel : penalty = 1400 stops = [2, 4]\n",
      "If the last stop is 6. hotel : penalty = 600 stops = [2, 5]\n",
      "If the last stop is 7. hotel : penalty = 800 stops = [2, 6]\n",
      "If the last stop is 8. hotel : penalty = 2900 stops = [1, 8]\n",
      "If the last stop is 9. hotel : penalty = 2900 stops = [2, 8]\n"
     ]
    }
   ],
   "source": [
    "##TEST FOR Q1\n",
    "\n",
    "A = [190, 220, 410, 580, 640, 770, 950, 1100, 1350]\n",
    "\n",
    "hotels = penalties((A[::-1])[0:len(A)])['h']\n",
    "penalties = penalties((A[::-1])[0:len(A)])['p']\n",
    "hotelsIndexes = []\n",
    "hotelsIndexesSub = []\n",
    "i = 0\n",
    "for H in hotels:\n",
    "    for h in H:\n",
    "        while i<len(A):\n",
    "            if h == A[i]:\n",
    "                hotelsIndexesSub.append(i+1)\n",
    "                i = 0\n",
    "                break\n",
    "            i += 1\n",
    "    hotelsIndexes.append(hotelsIndexesSub)\n",
    "    hotelsIndexesSub = []\n",
    "\n",
    "i = 1\n",
    "for index in hotelsIndexes :\n",
    "    print(\"If the last stop is \" + str(i) + \". hotel : \" + \"penalty = \" + str(penalties[i-1]) + \" stops = \" + str(index))\n",
    "    i += 1"
   ]
  },
  {
   "cell_type": "markdown",
   "metadata": {},
   "source": [
    "## Q2 ##"
   ]
  },
  {
   "cell_type": "code",
   "execution_count": 4,
   "metadata": {},
   "outputs": [
    {
     "name": "stdout",
     "output_type": "stream",
     "text": [
      "\n",
      "--------Q2-------\n",
      "\n"
     ]
    }
   ],
   "source": [
    "print(\"\\n--------Q2-------\\n\")"
   ]
  },
  {
   "cell_type": "code",
   "execution_count": 5,
   "metadata": {},
   "outputs": [],
   "source": [
    "## DICTIONARY FOR WORDS\n",
    "def DICT(s):\n",
    "    words = [\"it\", \"was\", \"the\", \"best\", \"of\", \"times\"]\n",
    "    if s in words:\n",
    "        return True\n",
    "    else:\n",
    "        return False\n",
    "\n",
    "## RECONSTRUCT THE SENTENCE\n",
    "def reconstructValidSentence(s, n):\n",
    "    d = []\n",
    "    res = []\n",
    "    i = 0\n",
    "    j = 0\n",
    "    dummy = False\n",
    "    finish = -1\n",
    "    if n == 0:\n",
    "        return []\n",
    "    else:\n",
    "        while i<n:\n",
    "            d.append(-1)\n",
    "            while j<i:\n",
    "                if (DICT(s[j:(i+1)])):\n",
    "                    d[j] = 1\n",
    "                    k = j+1\n",
    "                    while k<(i+1):\n",
    "                        d[k] = 0\n",
    "                        k += 1\n",
    "                    dummy = True\n",
    "                    res = reconstructValidSentence(s[(i+1):len(s)], len(s[(i+1):len(s)]))\n",
    "                    return (d + res)\n",
    "                j += 1\n",
    "            j = 0\n",
    "            i += 1\n",
    "        if dummy == False:\n",
    "            return d\n",
    "\n",
    "##PRINT NEW SENTENCE\n",
    "def printNewSentence(s, d):\n",
    "    i = 0\n",
    "    j = 0\n",
    "    resultString = \"\"\n",
    "    while i<len(d):\n",
    "        if d[i] == 1:\n",
    "            j = i\n",
    "            while i+1 <len(d) and d[i+1] == 0:\n",
    "                i += 1\n",
    "            resultString = resultString + s[j:(i+1)] + \" \"\n",
    "        i += 1\n",
    "    print(resultString)"
   ]
  },
  {
   "cell_type": "code",
   "execution_count": 6,
   "metadata": {},
   "outputs": [
    {
     "name": "stdout",
     "output_type": "stream",
     "text": [
      "Array Representation : [1, 0, 1, 0, 0, 1, 0, 0, 1, 0, 0, 0, 1, 0, 1, 0, 0, 0, 0]\n",
      "\n",
      "It can reconstituted as a sequence of valid words. The reconstituted sentece is : \n",
      "\n",
      "it was the best of times \n"
     ]
    }
   ],
   "source": [
    "sentence = \"itwasthebestoftimes\"\n",
    "length = len(sentence)\n",
    "d = reconstructValidSentence(sentence, length)\n",
    "print(\"Array Representation : \" + str(d))\n",
    "print(\"\")\n",
    "if -1 in d:\n",
    "    print(\"It cannot reconstituted as a sequence of valid words totally. The words has been found are here :\")\n",
    "else:\n",
    "    print(\"It can reconstituted as a sequence of valid words. The reconstituted sentece is : \")\n",
    "print(\"\")\n",
    "printNewSentence(sentence, d)"
   ]
  },
  {
   "cell_type": "markdown",
   "metadata": {},
   "source": [
    "## Q3 ##"
   ]
  },
  {
   "cell_type": "code",
   "execution_count": 7,
   "metadata": {},
   "outputs": [
    {
     "name": "stdout",
     "output_type": "stream",
     "text": [
      "\n",
      "--------Q3-------\n",
      "\n"
     ]
    }
   ],
   "source": [
    "print(\"\\n--------Q3-------\\n\")"
   ]
  },
  {
   "cell_type": "code",
   "execution_count": 8,
   "metadata": {},
   "outputs": [],
   "source": [
    "def merge2Array(arr1, arr2):\n",
    "    merged = []\n",
    "    if len(arr1) == 1:\n",
    "        if arr1[0] <= arr2[0]:\n",
    "            merged = arr1 + arr2\n",
    "            return merged\n",
    "        else:\n",
    "            i = 0\n",
    "            for elem in arr2:\n",
    "                if arr1[0] > elem:\n",
    "                    merged.append(elem)\n",
    "                    i += 1\n",
    "            merged.append(arr1[0])\n",
    "            merged = merged + arr2[i:len(arr2)]\n",
    "        return merged\n",
    "    elif len(arr2) == 1:\n",
    "        if arr2[0] <= arr1[0]:\n",
    "            merged = arr1 + arr2\n",
    "            return merged\n",
    "        else:\n",
    "            i = 0\n",
    "            for elem in arr1:\n",
    "                if arr2[0] > elem:\n",
    "                    merged.append(elem)\n",
    "                    i += 1\n",
    "            merged.append(arr2[0])\n",
    "            merged = merged + arr1[i:len(arr1)]\n",
    "        return merged\n",
    "    else:\n",
    "        left = merge2Array(arr1[0:(len(arr1)//2)], arr2[0:(len(arr1)//2)])\n",
    "        print(left)\n",
    "        right = merge2Array(arr1[(len(arr1)//2):len(arr1)], arr2[(len(arr1)//2):len(arr1)])\n",
    "        print(right)\n",
    "        i=0\n",
    "        j=0\n",
    "        for elemR in right: \n",
    "            while i<len(left):\n",
    "                if elemR<left[i]:\n",
    "                    merged.append(elemR)\n",
    "                    j += 1\n",
    "                    break\n",
    "                else:\n",
    "                    merged.append(left[i])\n",
    "                    i += 1\n",
    "        merged = merged + right[j:len(right)]\n",
    "        return merged\n",
    "def mergeNSortedArrays(listOfArrays):\n",
    "    if len(listOfArrays) == 2:\n",
    "        merged = merge2Array(listOfArrays[0], listOfArrays[1])\n",
    "        return merged\n",
    "    else:\n",
    "        left = mergeNSortedArrays(listOfArrays[0:(len(listOfArrays)//2)])\n",
    "        right = mergeNSortedArrays(listOfArrays[(len(listOfArrays)//2):len(listOfArrays)])\n",
    "        merged = merge2Array(left, right)\n",
    "        print(left)\n",
    "        print(right)\n",
    "        return merged"
   ]
  },
  {
   "cell_type": "code",
   "execution_count": 9,
   "metadata": {
    "scrolled": true
   },
   "outputs": [
    {
     "name": "stdout",
     "output_type": "stream",
     "text": [
      "STEPS : \n",
      "\n",
      "[1, 3]\n",
      "[2, 5]\n",
      "[1, 2, 3, 5]\n",
      "[6, 15]\n",
      "[7, 16]\n",
      "[6, 7, 15, 16]\n",
      "[4, 11]\n",
      "[8, 12]\n",
      "[4, 8, 11, 12]\n",
      "[9, 13]\n",
      "[10, 14]\n",
      "[9, 10, 13, 14]\n",
      "[1, 4]\n",
      "[2, 8]\n",
      "[1, 2, 4, 8]\n",
      "[3, 9]\n",
      "[5, 10]\n",
      "[3, 5, 9, 10]\n",
      "[1, 2, 3, 4, 5, 8, 9, 10]\n",
      "[6, 11]\n",
      "[7, 12]\n",
      "[6, 7, 11, 12]\n",
      "[13, 15]\n",
      "[14, 16]\n",
      "[13, 14, 15, 16]\n",
      "[6, 7, 11, 12, 13, 14, 15, 16]\n",
      "[1, 2, 3, 5, 6, 7, 15, 16]\n",
      "[4, 8, 9, 10, 11, 12, 13, 14]\n",
      "\n",
      "Merged kxn sizede array : [1, 2, 3, 4, 5, 6, 7, 8, 9, 10, 11, 12, 13, 14, 15, 16]\n"
     ]
    }
   ],
   "source": [
    "arr2 = [1,2,15,16]\n",
    "arr1 = [3,5,6,7]\n",
    "arr3 = [4,8,9,10]\n",
    "arr4 = [11,12,13,14]\n",
    "listNArrays = [arr2, arr1, arr3, arr4]\n",
    "print(\"STEPS : \")\n",
    "print(\"\")\n",
    "print(\"\\nMerged kxn sizede array : \" + str(mergeNSortedArrays(listNArrays)))"
   ]
  },
  {
   "cell_type": "markdown",
   "metadata": {},
   "source": [
    "## Q4 ##"
   ]
  },
  {
   "cell_type": "code",
   "execution_count": 10,
   "metadata": {},
   "outputs": [
    {
     "name": "stdout",
     "output_type": "stream",
     "text": [
      "\n",
      "--------Q4-------\n",
      "\n"
     ]
    }
   ],
   "source": [
    "print(\"\\n--------Q4-------\\n\")"
   ]
  },
  {
   "cell_type": "code",
   "execution_count": 11,
   "metadata": {},
   "outputs": [],
   "source": [
    "from random import randint\n",
    "def alicesParty(listOfNPeople, listOfPairsWhoKnowEachOther):\n",
    "    numberOfInvitees = len(listOfNPeople)\n",
    "    \n",
    "    ##not knowing people array\n",
    "    D = []\n",
    "    i=0\n",
    "    while i<numberOfInvitees:\n",
    "        dunno = numberOfInvitees-listOfPairsWhoKnowEachOther[i]-1\n",
    "        D.append(dunno)\n",
    "        i += 1\n",
    "        \n",
    "    print(\"\\n# of people that i'th person doesn't know = \" + str(D))\n",
    "    \n",
    "    i = 0\n",
    "    newS = []\n",
    "    deletedS = []\n",
    "    while i<numberOfInvitees:\n",
    "        if D[i]<5 or K[i]<5:\n",
    "            deletedS.append(S[i])\n",
    "        else:\n",
    "            newS.append(S[i])\n",
    "        i += 1\n",
    "    return(newS)"
   ]
  },
  {
   "cell_type": "code",
   "execution_count": 12,
   "metadata": {},
   "outputs": [
    {
     "name": "stdout",
     "output_type": "stream",
     "text": [
      "set of potential invitees = [1, 2, 3, 4, 5, 6, 7, 8, 9, 10, 11, 12, 13, 14, 15, 16, 17, 18, 19, 20]\n",
      "\n",
      "# of people that i'th person knows = [14, 8, 14, 5, 8, 15, 10, 18, 11, 14, 4, 19, 11, 6, 12, 15, 4, 16, 3, 13]\n",
      "\n",
      "# of people that i'th person doesn't know = [5, 11, 5, 14, 11, 4, 9, 1, 8, 5, 15, 0, 8, 13, 7, 4, 15, 3, 16, 6]\n",
      "\n",
      " best choice of party invitees = [1, 2, 3, 4, 5, 7, 9, 10, 13, 14, 15, 20]\n"
     ]
    }
   ],
   "source": [
    "numberOfInvitees = 20\n",
    "\n",
    "##invitees\n",
    "S = []\n",
    "i = 1\n",
    "while i<=numberOfInvitees:\n",
    "    S.append(i)\n",
    "    i += 1\n",
    "print(\"set of potential invitees = \" + str(S))\n",
    "\n",
    "##knowing people array\n",
    "K = []\n",
    "i = 0\n",
    "while i<numberOfInvitees:\n",
    "    know = randint(3, numberOfInvitees-1)\n",
    "    K.append(know)\n",
    "    i += 1\n",
    "print(\"\\n# of people that i'th person knows = \" + str(K))\n",
    "\n",
    "invitees = alicesParty(S, K)\n",
    "\n",
    "print(\"\\n best choice of party invitees = \" + str(invitees))"
   ]
  },
  {
   "cell_type": "markdown",
   "metadata": {},
   "source": [
    "## Q5 ##"
   ]
  },
  {
   "cell_type": "code",
   "execution_count": 13,
   "metadata": {},
   "outputs": [
    {
     "name": "stdout",
     "output_type": "stream",
     "text": [
      "\n",
      "--------Q5-------\n",
      "\n"
     ]
    }
   ],
   "source": [
    "print(\"\\n--------Q5-------\\n\")"
   ]
  },
  {
   "cell_type": "code",
   "execution_count": 14,
   "metadata": {},
   "outputs": [],
   "source": [
    "def canBeSatisfied(cons):\n",
    "    i = 0\n",
    "    j = 0\n",
    "    subset = []\n",
    "    while i<len(cons):\n",
    "        while j<len(cons[i]):\n",
    "            if cons[i][j] == 1:\n",
    "                if i not in subset:\n",
    "                    subset.append(i)\n",
    "                if j not in subset:\n",
    "                    subset.append(j)\n",
    "            j += 1\n",
    "        i += 1\n",
    "        j = 0\n",
    "    for elem1 in subset:\n",
    "        for elem2 in subset:\n",
    "            if elem1 != elem2 and cons[elem1][elem2] == 0:\n",
    "                return False       \n",
    "    return True"
   ]
  },
  {
   "cell_type": "code",
   "execution_count": 15,
   "metadata": {},
   "outputs": [
    {
     "name": "stdout",
     "output_type": "stream",
     "text": [
      "Cannot be satisfied\n"
     ]
    }
   ],
   "source": [
    "import math\n",
    "constraints = []\n",
    "n = 4\n",
    "i=0\n",
    "while i<n:\n",
    "    constraints.append([math.inf])\n",
    "    i += 1\n",
    "\n",
    "i=0\n",
    "while i<n:\n",
    "    j=0\n",
    "    while j<n:\n",
    "        constraints[i].append(math.inf)\n",
    "        j += 1\n",
    "    i += 1\n",
    "\n",
    "constraints[0][1] = 1\n",
    "constraints[1][2] = 1\n",
    "constraints[2][3] = 1\n",
    "constraints[1][3] = 0\n",
    "if canBeSatisfied(constraints) == False:\n",
    "    print(\"Cannot be satisfied\")\n",
    "else:\n",
    "    print(\"Can be satisfied\")\n"
   ]
  },
  {
   "cell_type": "code",
   "execution_count": null,
   "metadata": {},
   "outputs": [],
   "source": []
  },
  {
   "cell_type": "code",
   "execution_count": null,
   "metadata": {},
   "outputs": [],
   "source": []
  }
 ],
 "metadata": {
  "kernelspec": {
   "display_name": "Python 3",
   "language": "python",
   "name": "python3"
  },
  "language_info": {
   "codemirror_mode": {
    "name": "ipython",
    "version": 3
   },
   "file_extension": ".py",
   "mimetype": "text/x-python",
   "name": "python",
   "nbconvert_exporter": "python",
   "pygments_lexer": "ipython3",
   "version": "3.7.1"
  }
 },
 "nbformat": 4,
 "nbformat_minor": 2
}
