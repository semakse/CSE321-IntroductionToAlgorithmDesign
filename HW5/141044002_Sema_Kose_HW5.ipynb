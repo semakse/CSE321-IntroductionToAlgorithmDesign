{
 "cells": [
  {
   "cell_type": "markdown",
   "metadata": {},
   "source": [
    "## Q1 ##"
   ]
  },
  {
   "cell_type": "code",
   "execution_count": 1,
   "metadata": {},
   "outputs": [
    {
     "name": "stdout",
     "output_type": "stream",
     "text": [
      "\n",
      "------Q1-------\n",
      "\n"
     ]
    }
   ],
   "source": [
    "print(\"\\n------Q1-------\\n\")"
   ]
  },
  {
   "cell_type": "code",
   "execution_count": 2,
   "metadata": {},
   "outputs": [],
   "source": [
    "def orderTheJobs(setOfJobs):\n",
    "    i = 0\n",
    "    j = 0\n",
    "    newList = []\n",
    "    indexes = []\n",
    "    C = []\n",
    "    \n",
    "    while i<len(setOfJobs):\n",
    "        newList.append(setOfJobs[i])\n",
    "        indexes.append(i+1)\n",
    "        C.append(0)\n",
    "        i += 1\n",
    "    i = 0\n",
    "    \n",
    "    ##ordere due to decreasing wi/ti. That's optimal for job prioritization\n",
    "    while i < len(newList)-1:\n",
    "        while j < len(newList)-i-1:\n",
    "            first = newList[j][1]/newList[j][0]\n",
    "            second = newList[j+1][1]/newList[j+1][0]\n",
    "            if first < second :\n",
    "                temp = newList[j]\n",
    "                newList[j] = newList[j+1]\n",
    "                newList[j+1] = temp\n",
    "                temp = indexes[j]\n",
    "                indexes[j] = indexes[j+1]\n",
    "                indexes[j+1] = temp\n",
    "                \n",
    "            j += 1\n",
    "        i += 1\n",
    "        j = 0\n",
    "    return {'order' : newList, 'indexes' : indexes}"
   ]
  },
  {
   "cell_type": "code",
   "execution_count": 3,
   "metadata": {},
   "outputs": [
    {
     "name": "stdout",
     "output_type": "stream",
     "text": [
      "[ti, wi] = [[3, 2], [8, 8], [1, 9], [8, 5], [10, 8], [9, 10], [8, 6], [2, 10], [4, 8], [1, 9], [1, 10]]\n",
      "\n",
      "sorted [ti, wi] = [[1, 10], [1, 9], [1, 9], [2, 10], [4, 8], [9, 10], [8, 8], [10, 8], [8, 6], [3, 2], [8, 5]]\n",
      "\n",
      "order of jobs to minimize weighted sum = [11, 3, 10, 8, 9, 6, 2, 5, 7, 1, 4]\n"
     ]
    }
   ],
   "source": [
    "from random import randint\n",
    "jobsWithProcessingTime = []\n",
    "n = 11\n",
    "i=0\n",
    "while i<n:\n",
    "    t = randint(1,10)\n",
    "    w = randint(1,10)\n",
    "    jobsWithProcessingTime.append([t,w])\n",
    "    i += 1\n",
    "print(\"[ti, wi] = \" + str(jobsWithProcessingTime))\n",
    "sortedList = []\n",
    "sortedList = orderTheJobs(jobsWithProcessingTime)\n",
    "print(\"\\nsorted [ti, wi] = \" + str(sortedList['order']))\n",
    "print(\"\\norder of jobs to minimize weighted sum = \" + str(sortedList['indexes']))"
   ]
  },
  {
   "cell_type": "markdown",
   "metadata": {},
   "source": [
    "## Q2 ##"
   ]
  },
  {
   "cell_type": "code",
   "execution_count": 4,
   "metadata": {},
   "outputs": [
    {
     "name": "stdout",
     "output_type": "stream",
     "text": [
      "\n",
      "------Q2-------\n",
      "\n"
     ]
    }
   ],
   "source": [
    "print(\"\\n------Q2-------\\n\")"
   ]
  },
  {
   "cell_type": "code",
   "execution_count": 5,
   "metadata": {},
   "outputs": [
    {
     "name": "stdout",
     "output_type": "stream",
     "text": [
      "\n",
      "------a)-------\n",
      "\n"
     ]
    }
   ],
   "source": [
    "print(\"\\n------a)-------\\n\")"
   ]
  },
  {
   "cell_type": "code",
   "execution_count": 6,
   "metadata": {},
   "outputs": [],
   "source": [
    "def printTable(tableOfOperatingCosts, M):\n",
    "    months = \"#\\t\"\n",
    "    i = 0\n",
    "    while i < len(tableOfOperatingCosts):\n",
    "        months += \"Month\" + str(i+1) +\"\\t\"\n",
    "        i += 1\n",
    "    print(months)\n",
    "    operatingCostsNY = \"NY\\t\"\n",
    "    operatingCostsSF = \"SF\\t\"\n",
    "    i = 0\n",
    "    while i < len(tableOfOperatingCosts):\n",
    "        operatingCostsNY += str(tableOfOperatingCosts[i][0]) +\"\\t\"\n",
    "        operatingCostsSF += str(tableOfOperatingCosts[i][1]) +\"\\t\"\n",
    "        i += 1\n",
    "    print(operatingCostsNY)\n",
    "    print(operatingCostsSF)\n",
    "    print(\"\\nM = \" + str(M) + \"\\n\")\n",
    "    return {'table' : tableOfOperatingCosts, 'M' : M}\n",
    "\n",
    "def theAlgorithm(table):\n",
    "    ## Ni = table[i][0]\n",
    "    ## Si = table[i][1]\n",
    "    Month = []\n",
    "    sumOfCosts = 0\n",
    "    sumOfCostsStringRep = \"\" \n",
    "    for i in range(0,len(table)):\n",
    "        Month.append(\"\")\n",
    "    for i in range(0,len(table)):\n",
    "        if table[i][0] < table[i][1]:\n",
    "            Month[i] = \"NY\"\n",
    "            sumOfCosts += table[i][0]\n",
    "            sumOfCostsStringRep += str(table[i][0])\n",
    "        else:\n",
    "            Month[i] = \"SF\"\n",
    "            sumOfCosts += table[i][1]\n",
    "            sumOfCostsStringRep += str(table[i][1])\n",
    "        if i < len(table)-1:\n",
    "            sumOfCostsStringRep += \" + \"\n",
    "        i += 1\n",
    "    print(Month)\n",
    "    return {'cost' : sumOfCosts, 'costAsStr' : sumOfCostsStringRep}\n",
    "    \n",
    "def showTheAlgorithmDoesntSolves():\n",
    "    algorithm = \"for i= 1 to n \\n\\tif Ni < Si then \\n\\t\\tOutput “NY in Month i” else\\n\\t\\tOutput “SF in Month i” end\"\n",
    "    \n",
    "    print(\"\\n\" + algorithm + \"\\n\\nThe algorithm above does not correctly solve the problem because if the table was: \\n\")\n",
    "    instanceReturnsWrongAnswer = [[1,50], [3, 20], [2, 20], [6, 4]]\n",
    "    M = 10\n",
    "    printTable(instanceReturnsWrongAnswer, M)\n",
    "    print(\"\\nIt outputs:\\n\")\n",
    "    res = theAlgorithm(instanceReturnsWrongAnswer)\n",
    "    sumOfCosts = res['cost'] + 10\n",
    "    sumOfCostsStr = res['costAsStr'] + \" + \" + str(M)\n",
    "    print(\"\\nThe M = 10, so according to the algorithm the sum of the costs will be : \\n\")\n",
    "    print(\"Total Cost = \" + sumOfCostsStr + \" = \" + str(sumOfCosts) + \"\\n\")\n",
    "    print(\"\\nBut if we would be taken the NY as last city instead of SF,\\nwe won't have to be add M value at the end\\nand the correct output would be:\\n\")\n",
    "    print(\"\\n['NY', 'NY', 'NY', 'NY']\\n\")\n",
    "    print(\"\\nAnd the sum of the costs would be:\\n\")\n",
    "    print(\"Total Cost = 1 + 3 + 2 + 6 = 12\")"
   ]
  },
  {
   "cell_type": "code",
   "execution_count": 7,
   "metadata": {},
   "outputs": [
    {
     "name": "stdout",
     "output_type": "stream",
     "text": [
      "\n",
      "for i= 1 to n \n",
      "\tif Ni < Si then \n",
      "\t\tOutput “NY in Month i” else\n",
      "\t\tOutput “SF in Month i” end\n",
      "\n",
      "The algorithm above does not correctly solve the problem because if the table was: \n",
      "\n",
      "#\tMonth1\tMonth2\tMonth3\tMonth4\t\n",
      "NY\t1\t3\t2\t6\t\n",
      "SF\t50\t20\t20\t4\t\n",
      "\n",
      "M = 10\n",
      "\n",
      "\n",
      "It outputs:\n",
      "\n",
      "['NY', 'NY', 'NY', 'SF']\n",
      "\n",
      "The M = 10, so according to the algorithm the sum of the costs will be : \n",
      "\n",
      "Total Cost = 1 + 3 + 2 + 4 + 10 = 20\n",
      "\n",
      "\n",
      "But if we would be taken the NY as last city instead of SF,\n",
      "we won't have to be add M value at the end\n",
      "and the correct output would be:\n",
      "\n",
      "\n",
      "['NY', 'NY', 'NY', 'NY']\n",
      "\n",
      "\n",
      "And the sum of the costs would be:\n",
      "\n",
      "Total Cost = 1 + 3 + 2 + 6 = 12\n"
     ]
    }
   ],
   "source": [
    "showTheAlgorithmDoesntSolves()"
   ]
  },
  {
   "cell_type": "code",
   "execution_count": 8,
   "metadata": {},
   "outputs": [
    {
     "name": "stdout",
     "output_type": "stream",
     "text": [
      "\n",
      "\n",
      "------b)-------\n",
      "\n"
     ]
    }
   ],
   "source": [
    "print(\"\\n\\n------b)-------\\n\")"
   ]
  },
  {
   "cell_type": "code",
   "execution_count": 9,
   "metadata": {},
   "outputs": [],
   "source": [
    "def costOfAnOptimalPlan(n, M, N, S):\n",
    "    Month = []\n",
    "    Costs = []\n",
    "    turnCount = 0\n",
    "    turn = \"\"\n",
    "    turnCost = 0\n",
    "    for i in range(0,n):\n",
    "        Month.append(\"\")\n",
    "        Costs.append(0)\n",
    "    for i in range(0,n):\n",
    "        if turn == \"N\":\n",
    "            if N[i] < (turnCost + M + S[i]):\n",
    "                Month[i] = \"NY\"\n",
    "                Costs[i] = N[i]\n",
    "            else:\n",
    "                Month[i] = \"SF\"\n",
    "                Costs[i] = S[i]\n",
    "                turnCount += 1\n",
    "                turnCost += M\n",
    "                turn = \"S\"\n",
    "                \n",
    "        elif turn == \"S\":\n",
    "            if S[i] < (turnCost + M + N[i]):\n",
    "                Month[i] = \"SF\"\n",
    "                Costs[i] = S[i]\n",
    "            else:\n",
    "                Month[i] = \"NY\"\n",
    "                Costs[i] = N[i]\n",
    "                turnCount += 1\n",
    "                turnCost += M\n",
    "                turn = \"N\"\n",
    "        else:\n",
    "            if N[i] < S[i]:\n",
    "                Month[i] = \"NY\"\n",
    "                Costs[i] = N[i]\n",
    "                turn = \"N\"\n",
    "            else:\n",
    "                Month[i] = \"SF\"\n",
    "                Costs[i] = S[i]\n",
    "                turn = \"S\"\n",
    "        i += 1\n",
    "    return {'Months' : Month, 'Costs' : Costs, 'turnCount' : turnCount}"
   ]
  },
  {
   "cell_type": "code",
   "execution_count": 10,
   "metadata": {},
   "outputs": [
    {
     "name": "stdout",
     "output_type": "stream",
     "text": [
      "\n",
      "\n",
      "#\tMonth1\tMonth2\tMonth3\tMonth4\t\n",
      "NY\t1\t3\t20\t30\t\n",
      "SF\t50\t20\t2\t4\t\n",
      "\n",
      "M = 10\n",
      "\n",
      "\n",
      "Months : ['NY', 'NY', 'SF', 'SF']\n",
      "\n",
      "\n",
      "Costs : [1, 3, 2, 4]\n",
      "\n",
      "\n",
      "Tostal Cost : 1 + 3 + 2 + 4 + 10 = 20\n",
      "\n"
     ]
    }
   ],
   "source": [
    "n = 4\n",
    "M = 10\n",
    "N = [1, 3, 20, 30]\n",
    "S = [50, 20, 2, 4]\n",
    "table = []\n",
    "for i in range(0,n):\n",
    "    table.append([N[i], S[i]])\n",
    "    \n",
    "print(\"\\n\")\n",
    "printTable(table, M)\n",
    "\n",
    "#N = [5, 20, 5, 20]\n",
    "#S = [20, 5, 20, 5]\n",
    "\n",
    "\n",
    "res = costOfAnOptimalPlan(n, M, N, S)\n",
    "print(\"\\nMonths : \" + str(res['Months']) + \"\\n\")\n",
    "print(\"\\nCosts : \" + str(res['Costs'])+ \"\\n\")\n",
    "costsStr = \"\"\n",
    "costsStr = str(res['Costs'][0])\n",
    "cost = res['Costs'][0]\n",
    "for i in range(1,len(res['Costs'])):\n",
    "    costsStr += \" + \" + str(res['Costs'][i])\n",
    "    cost += res['Costs'][i]\n",
    "for i in range(0,res['turnCount']):\n",
    "    costsStr += \" + \" + str(M)\n",
    "    cost += M\n",
    "print(\"\\nTostal Cost : \" + costsStr + \" = \" + str(cost) + \"\\n\")"
   ]
  },
  {
   "cell_type": "code",
   "execution_count": null,
   "metadata": {},
   "outputs": [],
   "source": []
  },
  {
   "cell_type": "code",
   "execution_count": null,
   "metadata": {},
   "outputs": [],
   "source": []
  }
 ],
 "metadata": {
  "kernelspec": {
   "display_name": "Python 3",
   "language": "python",
   "name": "python3"
  },
  "language_info": {
   "codemirror_mode": {
    "name": "ipython",
    "version": 3
   },
   "file_extension": ".py",
   "mimetype": "text/x-python",
   "name": "python",
   "nbconvert_exporter": "python",
   "pygments_lexer": "ipython3",
   "version": "3.7.1"
  }
 },
 "nbformat": 4,
 "nbformat_minor": 2
}
