{
 "cells": [
  {
   "cell_type": "markdown",
   "metadata": {},
   "source": [
    "#  Q1  #"
   ]
  },
  {
   "cell_type": "markdown",
   "metadata": {},
   "source": [
    "#####  DFS  #####"
   ]
  },
  {
   "cell_type": "code",
   "execution_count": 26,
   "metadata": {},
   "outputs": [],
   "source": [
    "## A depth first search method using decrease and conquer paradigm\n",
    "\n",
    "def depthFirstSearch(rootVertex, vertices, edges):\n",
    "    arr = []\n",
    "    fromVertices = []\n",
    "    \n",
    "    #fill the fromVertices for checking if \n",
    "    #there is an edge between the root node and another node\n",
    "    \n",
    "    for edge in edges:\n",
    "        fromVertices.append(edge[0])\n",
    "    \n",
    "    #base case representing there is no other edges related with the root node\n",
    "    #return the array contains current node\n",
    "    \n",
    "    if rootVertex[0] not in fromVertices:\n",
    "        rootVertex[1] += 1\n",
    "        arr.append(rootVertex[0])\n",
    "        return arr\n",
    "    \n",
    "    #if there is an edge related to root node\n",
    "    #find the related unvisited vertex and \n",
    "    #call the dfs method for the vertex that acts as the root node\n",
    "    \n",
    "    else:\n",
    "        for edge in edges:\n",
    "            if edge[0] == rootVertex[0]:\n",
    "                for vertex in vertices:\n",
    "                    if edge[1] == vertex[0] and vertex[1] == 0:\n",
    "                        rootVertex[1] += 1\n",
    "                        arr = depthFirstSearch(vertex, vertices, edges)\n",
    "                        arr.append(edge[0])\n",
    "                        return arr\n",
    "                arr.append(edge[0])\n",
    "                return arr \n",
    "                    "
   ]
  },
  {
   "cell_type": "code",
   "execution_count": 27,
   "metadata": {},
   "outputs": [],
   "source": [
    "## A method for marking the vartices as unvisited initially\n",
    "\n",
    "def markVerticesAsUnvisited(V):\n",
    "    unvisited = []\n",
    "    vertices = []\n",
    "    for u in V:\n",
    "        unvisited.append(u)\n",
    "        unvisited.append(0)\n",
    "        vertices.append(unvisited)\n",
    "        unvisited = []\n",
    "    return vertices"
   ]
  },
  {
   "cell_type": "markdown",
   "metadata": {},
   "source": [
    "Complexity Analysis of DFS Algorithm:\n",
    "    \n",
    "    Worst Case :\n",
    "    \n",
    "        if we take the graph as adjacency matrix, as M[nxn] we have to visit all nodes\n",
    "        for each node so we have T(n) = O(n^2)\n",
    "\n",
    "        if we take the graph as adjacency list, as M[nxn] we could visit the neighbours\n",
    "        for each node so we have T(n) = O(n+e) where e = (edge count)\n",
    " \n",
    " In this implementation, we have the graph as a list so;\n",
    "                                                     T(n) = O(n+e)\n",
    "    "
   ]
  },
  {
   "cell_type": "markdown",
   "metadata": {},
   "source": [
    "#####  BFS  #####"
   ]
  },
  {
   "cell_type": "code",
   "execution_count": 28,
   "metadata": {},
   "outputs": [],
   "source": [
    "## A breadth first search method using decrease and conquer paradigm\n",
    "\n",
    "def breadthFirstSearch(rootVertex, vertices, edges):\n",
    "    queue = []\n",
    "    traversal = \"\"\n",
    "    #push the root vertex to the queue\n",
    "    queue.append(rootVertex)\n",
    "    while queue:\n",
    "        #if there is a vertex in the queue\n",
    "        #pop the vertex from the queue as current vertex\n",
    "        #find an edge that related to that vertex and\n",
    "        #push the vertices that stands otherside of the edge (a.k.a neighbor)\n",
    "        v = queue.pop(0)\n",
    "        for edge in edges:\n",
    "            if edge[0] == v[0]:\n",
    "                for ve in vertices:\n",
    "                    if ve[0] == edge[1] and ve[1] == 0:\n",
    "                        ve[1] += 1\n",
    "                        queue.append(ve)\n",
    "                        traversal += str(\"->\") + str(ve[0])\n",
    "    #when finish the traversal return the traversal string for representation\n",
    "    return traversal"
   ]
  },
  {
   "cell_type": "markdown",
   "metadata": {},
   "source": [
    "Complexity Analysis of BFS Algorithm: \n",
    "\n",
    "    Worst Case : O(|V|+|E|) where V is the number of vertices and E is the number of edges."
   ]
  },
  {
   "cell_type": "markdown",
   "metadata": {},
   "source": [
    "#####  TEST FOR DFS AND BFS  #####"
   ]
  },
  {
   "cell_type": "code",
   "execution_count": 29,
   "metadata": {
    "scrolled": true
   },
   "outputs": [],
   "source": [
    "## A main method for testing the DFS and BFS algorithms\n",
    "\n",
    "def mainForDFSandBFS():\n",
    "    import xlrd\n",
    "\n",
    "    workbook = xlrd.open_workbook('Graph_data.XLS')\n",
    "    worksheet = workbook.sheet_by_name('Sheet1')\n",
    "\n",
    "    rootVertex = [int(worksheet.cell(0, 1).value), 0]\n",
    "\n",
    "    fromVertices = []\n",
    "    toVertices = []\n",
    "    vertices = []\n",
    "    edge = []\n",
    "    edges = []\n",
    "    index = 0\n",
    "\n",
    "    # fill the list representing the from and to vertices, vertices and edges\n",
    "    \n",
    "    for fromVertex in worksheet.col(0,3):\n",
    "        fromVertices.append(int(fromVertex.value))\n",
    "    for toVertex in worksheet.col(1,3):\n",
    "        toVertices.append(int(toVertex.value))\n",
    "\n",
    "    for vertex in fromVertices:\n",
    "        edge.append(vertex)\n",
    "        edge.append(toVertices[index])\n",
    "        edges.append(edge)\n",
    "        edge = []\n",
    "        index += 1\n",
    "\n",
    "    index = 0  \n",
    "\n",
    "    for elem in fromVertices:\n",
    "        if elem not in vertices:\n",
    "            vertices.append(elem)\n",
    "    for elem in toVertices:\n",
    "        if elem not in vertices:\n",
    "            vertices.append(elem)\n",
    "\n",
    "    vertices = markVerticesAsUnvisited(vertices)\n",
    "    traversalArray = []\n",
    "\n",
    "    # traverse the graph with DFS method\n",
    "    print(\"DFS\")\n",
    "    for edge in edges:\n",
    "        if edge[0] == rootVertex[0]:\n",
    "            for v in vertices:\n",
    "                if v[0] == edge[1] and v[1] == 0:\n",
    "                    #call dfs for first vertex fallowing the root vertex\n",
    "                    traversalArray = depthFirstSearch(v, vertices, edges)\n",
    "                    traversalArray = traversalArray[::-1]\n",
    "                    #add the root vertex at the begining of the traversal\n",
    "                    traversal = str(edge[0])\n",
    "                    for node in traversalArray:\n",
    "                        traversal += str(\"->\") + str(node) \n",
    "                    print(traversal)\n",
    "                    traversalArray = []\n",
    "\n",
    "    # traverse the graph with BFS method\n",
    "    print(\"BFS\")\n",
    "    for v in vertices:\n",
    "        v[1] = 0\n",
    "    for v in vertices:\n",
    "        if v[1] == 0:\n",
    "            tr = breadthFirstSearch(v, vertices, edges)\n",
    "            print(str(v[0]) + tr)"
   ]
  },
  {
   "cell_type": "code",
   "execution_count": null,
   "metadata": {},
   "outputs": [],
   "source": [
    "print(\"Q1\")"
   ]
  },
  {
   "cell_type": "code",
   "execution_count": 30,
   "metadata": {},
   "outputs": [
    {
     "name": "stdout",
     "output_type": "stream",
     "text": [
      "DFS\n",
      "1->2->4->5->6->7->8->9->10\n",
      "1->3\n",
      "BFS\n",
      "1->2->3->4->5->8->6->9->10->7\n"
     ]
    }
   ],
   "source": [
    "mainForDFSandBFS()"
   ]
  },
  {
   "cell_type": "code",
   "execution_count": 31,
   "metadata": {},
   "outputs": [
    {
     "name": "stdout",
     "output_type": "stream",
     "text": [
      "\n"
     ]
    }
   ],
   "source": [
    "print(\"\")"
   ]
  },
  {
   "cell_type": "markdown",
   "metadata": {},
   "source": [
    "#  Q2  #"
   ]
  },
  {
   "cell_type": "code",
   "execution_count": 32,
   "metadata": {},
   "outputs": [],
   "source": [
    "# Game method for the given size of game and given player\n",
    "# using decrease and conquer paradigm\n",
    "\n",
    "import random\n",
    "def onePileNIM(n, whoGoes):\n",
    "    if n>2:\n",
    "        # generate a random number for the count of the chips that will be taken\n",
    "        # it must provides the rule of  => (n mod(m+1) != 0)\n",
    "        if n == 2:\n",
    "            m = 1\n",
    "        else:\n",
    "            m = random.randint(1,n-2)\n",
    "        if whoGoes == 1:\n",
    "            move(1, 0, m)\n",
    "            whoGoes = 2\n",
    "        else:\n",
    "            move(0, 1, m)\n",
    "            whoGoes = 1\n",
    "        #decrease the count of chips and change the player\n",
    "        return onePileNIM(n-m, whoGoes)\n",
    "    else:\n",
    "        if whoGoes == 1:\n",
    "            move(1, 0, 1)\n",
    "        else:\n",
    "            move(0, 1, 1)\n",
    "        #conquer with returning the winner\n",
    "        return whoGoes"
   ]
  },
  {
   "cell_type": "code",
   "execution_count": 33,
   "metadata": {},
   "outputs": [],
   "source": [
    "# Method that represents the move and print who took how many chips from pile\n",
    "def move(player1, player2, m):\n",
    "    if player1:\n",
    "        print(\"Player 1 takes : \" + str(m) + \" chips from pile\")\n",
    "    else:\n",
    "        print(\"Player 2 takes : \" + str(m) + \" chips from pile\")\n",
    "        "
   ]
  },
  {
   "cell_type": "code",
   "execution_count": null,
   "metadata": {},
   "outputs": [],
   "source": [
    "print(\"Q2\")"
   ]
  },
  {
   "cell_type": "code",
   "execution_count": 34,
   "metadata": {},
   "outputs": [
    {
     "name": "stdout",
     "output_type": "stream",
     "text": [
      "Player 1 takes : 29 chips from pile\n",
      "Player 2 takes : 12 chips from pile\n",
      "Player 1 takes : 5 chips from pile\n",
      "Player 2 takes : 1 chips from pile\n",
      "Player 1 takes : 1 chips from pile\n",
      "Player 2 takes : 1 chips from pile\n",
      "\n",
      "Player 2 won who made the 2nd move\n"
     ]
    }
   ],
   "source": [
    "# Main for calling the game and announcing the winner\n",
    "import random\n",
    "whoGoesFirst = random.randint(1,2)\n",
    "\n",
    "# take the winner as result\n",
    "whoWins = onePileNIM(50, whoGoesFirst)\n",
    "print(\"\")\n",
    "\n",
    "# decide if the winner is the player\n",
    "# who made the 1st move or 2nd move\n",
    "\n",
    "if whoGoesFirst == whoWins:\n",
    "    print(\"Player \" + str(whoWins) + \" won who made the 1st move\")\n",
    "else:\n",
    "    print(\"Player \" + str(whoWins) + \" won who made the 2nd move\")"
   ]
  },
  {
   "cell_type": "markdown",
   "metadata": {},
   "source": [
    "Complexity Analysis :\n",
    "\n",
    "    move(...) function takes constant time => T(n) = O(1)\n",
    "    \n",
    "    Because of we're calling the recursive method with size of n, the method \n",
    "    takes O(n) time to execute.\n",
    "    \n",
    "    onePileNIM(...) function takes linear time => T(n) = O(n)"
   ]
  },
  {
   "cell_type": "code",
   "execution_count": 35,
   "metadata": {},
   "outputs": [
    {
     "name": "stdout",
     "output_type": "stream",
     "text": [
      "\n"
     ]
    }
   ],
   "source": [
    "print(\"\")"
   ]
  },
  {
   "cell_type": "markdown",
   "metadata": {},
   "source": [
    "#  Q3  #"
   ]
  },
  {
   "cell_type": "code",
   "execution_count": 36,
   "metadata": {},
   "outputs": [],
   "source": [
    "# A method that calculates is there an element in the array that has the same\n",
    "# value with its index using divide and conquer paradigm\n",
    "\n",
    "def isIndexEqualsValue(inputArray, low, high):\n",
    "    # if low index > high index, there is no such element so return -1\n",
    "    if low>high:\n",
    "        return -1\n",
    "    #if there is just one element, the middle can be either low nor high \n",
    "    elif low == high:\n",
    "        middle = low\n",
    "    else:\n",
    "        middle = (low+high)//2\n",
    "    # if middle equals the element at the middleth index,\n",
    "    # the element that wanted has found\n",
    "    if middle == inputArray[middle]:\n",
    "        return middle\n",
    "    # if middle smaller than the middleth index,\n",
    "    # the element that wanted can be in the left part\n",
    "    # either\n",
    "    # if middle greater than the middleth index,\n",
    "    # the element that wanted can be in the right part\n",
    "    # so we search recursively as two parts\n",
    "    elif middle < inputArray[middle]:\n",
    "        index = isIndexEqualsValue(inputArray, low, (middle-1))\n",
    "    elif middle > inputArray[middle]:\n",
    "        index = isIndexEqualsValue(inputArray, (middle+1), high)\n",
    "    return index"
   ]
  },
  {
   "cell_type": "code",
   "execution_count": null,
   "metadata": {},
   "outputs": [],
   "source": [
    "print(\"Q3\")"
   ]
  },
  {
   "cell_type": "code",
   "execution_count": 37,
   "metadata": {},
   "outputs": [
    {
     "name": "stdout",
     "output_type": "stream",
     "text": [
      "index : 3\n"
     ]
    }
   ],
   "source": [
    "# Test for Q3\n",
    "\n",
    "arr = [-10, -1, 0, 3, 10, 11, 30, 50, 100]\n",
    "print(arr)\n",
    "print(\"index : \" + str(isIndexEqualsValue(arr, 0, len(arr)-1)))"
   ]
  },
  {
   "cell_type": "markdown",
   "metadata": {},
   "source": [
    "Complexity Analysis :\n",
    "    \n",
    "    Because of this uses a binary search like method, it takes O(logn) time to execute.\n",
    "    \n",
    "    T(n) = O(logn)"
   ]
  },
  {
   "cell_type": "code",
   "execution_count": 38,
   "metadata": {},
   "outputs": [
    {
     "name": "stdout",
     "output_type": "stream",
     "text": [
      "\n"
     ]
    }
   ],
   "source": [
    "print(\"\")"
   ]
  },
  {
   "cell_type": "markdown",
   "metadata": {},
   "source": [
    "#  Q4  #"
   ]
  },
  {
   "cell_type": "code",
   "execution_count": 39,
   "metadata": {},
   "outputs": [],
   "source": [
    "# A method that finds the subset that has the maximum summation\n",
    "# using divide and conquer paradigm\n",
    "def findMaximumSubset(inputArray, low, high):\n",
    "    \n",
    "    #base case\n",
    "    if low == high:\n",
    "        return {'low':low, 'high':high ,'maxSum':inputArray[low] }\n",
    "    else:\n",
    "        middle = (low+high)//2\n",
    "        \n",
    "        #calculates the left, right and crossing parts seperately and recursively,\n",
    "        \n",
    "        leftPart = findMaximumSubset(inputArray, low, middle)\n",
    "        rightPart = findMaximumSubset(inputArray, middle+1, high)\n",
    "        crossingPart = findMaximumCrossingSubset(inputArray, low, middle, high)\n",
    "        \n",
    "        #then compare and choose the best one of them\n",
    "        \n",
    "        if rightPart['maxSum'] >= leftPart['maxSum'] and rightPart['maxSum'] >= crossingPart['maxSum']:\n",
    "            return rightPart\n",
    "        elif leftPart['maxSum'] >= rightPart['maxSum'] and leftPart['maxSum'] >= crossingPart['maxSum']:\n",
    "            return leftPart\n",
    "        else:\n",
    "            return crossingPart"
   ]
  },
  {
   "cell_type": "code",
   "execution_count": 40,
   "metadata": {},
   "outputs": [],
   "source": [
    "# A method that finds the crossing subset that has the maximum summation\n",
    "\n",
    "import math\n",
    "def findMaximumCrossingSubset(inputArray, low, middle, high):\n",
    "    rightPart = []\n",
    "    leftPart = []\n",
    "    temp = []\n",
    "    LSummation = -math.inf\n",
    "    RSummation = -math.inf\n",
    "    summation = 0\n",
    "    index = middle\n",
    "    LMaxIndex = 0\n",
    "    RMaxIndex = 0\n",
    "    maximumSummation = 0\n",
    "    \n",
    "    #left part\n",
    "    #calculation for each element from\n",
    "    #the index of (middle+1) down to low\n",
    "    for element in inputArray[low:(middle+1)][::-1]:\n",
    "        summation += element\n",
    "        temp.append(element)\n",
    "        if summation > LSummation:\n",
    "            #right part of the left part\n",
    "            rightPart = temp\n",
    "            LSummation = summation\n",
    "            LMaxIndex = index\n",
    "        index -= 1\n",
    "    summation = 0\n",
    "    index = 0\n",
    "    temp = []\n",
    "    \n",
    "    #right part\n",
    "    #calculation for each element from\n",
    "    #the index of (middle+1) to high\n",
    "    for element in inputArray[(middle+1):(high+1)]:\n",
    "        summation += element\n",
    "        temp.append(element)\n",
    "        if summation > RSummation:\n",
    "            #left part of the right part\n",
    "            leftPart = temp\n",
    "            RSummation = summation\n",
    "            RMaxIndex = index\n",
    "        index += 1\n",
    "        \n",
    "    maximumSummation = LSummation + RSummation\n",
    "    \n",
    "    #merge the parts for subset\n",
    "    subset = rightPart[::-1][LMaxIndex:(middle+1)] + leftPart[0:(RMaxIndex+1)]\n",
    "    return {'maxSum':maximumSummation, 'leftIndex':LMaxIndex ,'rightIndex':((middle+1)+RMaxIndex), 'subset':subset }"
   ]
  },
  {
   "cell_type": "code",
   "execution_count": null,
   "metadata": {},
   "outputs": [],
   "source": [
    "print(\"Q4\")"
   ]
  },
  {
   "cell_type": "code",
   "execution_count": 41,
   "metadata": {},
   "outputs": [
    {
     "name": "stdout",
     "output_type": "stream",
     "text": [
      "{'maxSum': 14, 'leftIndex': 2, 'rightIndex': 5, 'subset': [6, 7, -6, 7]}\n"
     ]
    }
   ],
   "source": [
    "# Test for Q4\n",
    "\n",
    "A=[5, -6, 6, 7, -6, 7, -4, 3]\n",
    "print(A)\n",
    "print(findMaximumSubset(A, 0, len(A)-1))"
   ]
  },
  {
   "cell_type": "markdown",
   "metadata": {},
   "source": [
    "Complexity Analysis :\n",
    "\n",
    "    We have 2 recursive call that has the size n/2, and the method for max crossing sum which     has the size n\n",
    "\n",
    "    T(n) = 2T(n/2) + O(n)\n",
    "    \n",
    "    Due to Master Theorem we have the complexity of:\n",
    "        \n",
    "        T(n) = O(nlogn)"
   ]
  },
  {
   "cell_type": "code",
   "execution_count": 42,
   "metadata": {},
   "outputs": [
    {
     "name": "stdout",
     "output_type": "stream",
     "text": [
      "\n"
     ]
    }
   ],
   "source": [
    "print(\"\")"
   ]
  }
 ],
 "metadata": {
  "kernelspec": {
   "display_name": "Python 3",
   "language": "python",
   "name": "python3"
  },
  "language_info": {
   "codemirror_mode": {
    "name": "ipython",
    "version": 3
   },
   "file_extension": ".py",
   "mimetype": "text/x-python",
   "name": "python",
   "nbconvert_exporter": "python",
   "pygments_lexer": "ipython3",
   "version": "3.7.1"
  }
 },
 "nbformat": 4,
 "nbformat_minor": 2
}
